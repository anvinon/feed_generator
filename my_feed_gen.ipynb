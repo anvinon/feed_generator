{
  "nbformat": 4,
  "nbformat_minor": 0,
  "metadata": {
    "colab": {
      "name": "my_feed_gen.ipynb",
      "version": "0.3.2",
      "provenance": [],
      "collapsed_sections": [],
      "include_colab_link": true
    },
    "kernelspec": {
      "name": "python3",
      "display_name": "Python 3"
    }
  },
  "cells": [
    {
      "cell_type": "markdown",
      "metadata": {
        "id": "view-in-github",
        "colab_type": "text"
      },
      "source": [
        "<a href=\"https://colab.research.google.com/github/anvinon/feed_generator/blob/master/my_feed_gen.ipynb\" target=\"_parent\"><img src=\"https://colab.research.google.com/assets/colab-badge.svg\" alt=\"Open In Colab\"/></a>"
      ]
    },
    {
      "metadata": {
        "id": "HOszgFWsHuVk",
        "colab_type": "code",
        "colab": {}
      },
      "cell_type": "code",
      "source": [
        "!pip install feedparser\n",
        "!pip install feedgenerator\n",
        "!pip install django\n",
        "\n",
        "import feedparser as fp\n",
        "import pprint\n",
        "from django.utils import feedgenerator\n",
        "import datetime\n",
        "\n",
        "feed = feedgenerator.Rss201rev2Feed(title=\"Takeshi Ishikawa Blockchain RSS\", link=\"anvinon.com\", description=\"RSS feeds of Blockchain selected by Takeshi Ishikawa\", language=\"jp\")\n",
        "\n",
        "feeds = [\"https://news.google.com/rss/search?q=%E3%82%B9%E3%83%9E%E3%83%BC%E3%83%88%E3%82%B3%E3%83%B3%E3%83%88%E3%83%A9%E3%82%AF%E3%83%88&amp;hl=ja&amp;gl=JP&amp;ceid=JP:ja\",\n",
        "    'https://news.google.com/rss/search?q=%E3%83%96%E3%83%AD%E3%83%83%E3%82%AF%E3%83%81%E3%82%A7%E3%83%BC%E3%83%B3&amp;hl=ja&amp;gl=JP&amp;ceid=JP:ja',\n",
        "    'https://news.google.com/rss/search?q=%E3%83%96%E3%83%AD%E3%83%83%E3%82%AF%E3%83%81%E3%82%A7%E3%83%BC%E3%83%B3%E3%82%A8%E3%83%B3%E3%82%B8%E3%83%8B%E3%82%A2&amp;hl=ja&amp;gl=JP&amp;ceid=JP:ja', \n",
        "    ]\n",
        "\n",
        "for f in feeds :\n",
        "    p_url = fp.parse(f)\n",
        "    for entry in p_url['entries']:\n",
        "        feed.add_item(title = entry['title'], link = entry['link'], description = entry[\"description\"], pubdate = datetime.datetime.now())\n",
        "\n",
        "with open('b_chain.rss', 'w') as fp:\n",
        "    feed.write(fp, 'utf-8')"
      ],
      "execution_count": 0,
      "outputs": []
    }
  ]
}